{
  "cells": [
    {
      "cell_type": "markdown",
      "metadata": {
        "id": "view-in-github",
        "colab_type": "text"
      },
      "source": [
        "<a href=\"https://colab.research.google.com/github/Kholifah01/sukayahsitikholifah.github.io/blob/main/scripts/materib.ipynb\" target=\"_parent\"><img src=\"https://colab.research.google.com/assets/colab-badge.svg\" alt=\"Open In Colab\"/></a>"
      ]
    },
    {
      "cell_type": "markdown",
      "metadata": {
        "id": "W2Cm5xagTDBV"
      },
      "source": [
        "# Kecerdasan Buatan\n",
        "\n",
        "## Materi: Model Linear\n",
        "\n",
        "### Mekanisme\n",
        "\n",
        "Anda hanya diwajibkan untuk mengumpulkan file ini saja ke uploader yang disediakan di http://elearning2.uai.ac.id/. Ganti nama file ini saat pengumpulan menjadi tugas1_NIM.ipynb.\n",
        "\n",
        "**Keterlambatan**: Pengumpulan tugas yang melebihi tenggat yang telah ditentukan tidak akan diterima. Keterlambatan akan berakibat pada nilai nol untuk tugas ini.\n",
        "\n",
        "**Kolaborasi**: Anda diperbolehkan untuk berdiskusi dengan teman Anda, tetapi dilarang keras menyalin kode maupun tulisan dari teman Anda.\n",
        "\n",
        "### Petunjuk\n",
        "\n",
        "_Packages_ yang Anda akan gunakan dalam mengerjakan tugas ini antara lain:\n",
        "\n",
        "- keras\n",
        "- matplotlib\n",
        "- numpy\n",
        "- pandas\n",
        "- pillow\n",
        "- scipy\n",
        "- seaborn\n",
        "\n",
        "Anda diperbolehkan (jika dirasa perlu) untuk mengimpor modul tambahan untuk tugas ini. Namun, seharusnya modul yang tersedia sudah cukup untuk memenuhi kebutuhan Anda. Untuk kode yang Anda ambil dari sumber lain, **cantumkan URL menuju referensi tersebut jika diambil dari internet**!\n",
        "\n",
        "Perhatikan poin untuk tiap soal! **Semakin kecil poinnya, berarti kode yang diperlukan untuk menjawab soal tersebut seharusnya semakin sedikit!**"
      ]
    },
    {
      "cell_type": "markdown",
      "metadata": {
        "id": "e7kegIlKTDBe"
      },
      "source": [
        "**Nilai akhir: XX/40**"
      ]
    },
    {
      "cell_type": "markdown",
      "metadata": {
        "id": "A5A9BzzsTDBg"
      },
      "source": [
        "### Deskripsi Dataset\n",
        "\n",
        "Pada tugas kali ini, Anda akan mencoba menggunakan metode *machine learning* untuk melakukan dua jenis prediksi: **regresi** dan **klasifikasi**.\n",
        "\n",
        "**Untuk kasus regresi**, Anda diminta untuk memprediksi jumlah penjualan berdasarkan uang yang dihabiskan pada media iklan yang digunakan. Terdapat tiga media iklan, yaitu TV, Radio dan Newspaper. Dengan detail atribut sebagai berikut:\n",
        "\n",
        "- TV: biaya yang dihabiskan untuk iklan tayangan TV untuk setiap satu produk dalam sebuah pasar (dalam ribuan dollar)\n",
        "- Radio: biaya yang dihabiskan untuk iklan di radio (dalam ribuan dollar)\n",
        "- Newspaper: biaya yang dihabiskan untuk iklan di koran (dalam ribuan dollar)\n",
        "- Sales: penjualan dari setiap satuan produk pada suatu pasar (dalam ribuan widget)\n",
        "\n",
        "**Untuk kasus klasifikasi**, Anda akan menggunakan dataset Food-101 yang memiliki 101 kategori makanan dengan total 101.000 gambar makanan. Dataset untuk tugas ini diambil dari Food-101 (https://www.vision.ee.ethz.ch/datasets_extra/food-101/). Untuk versi yang lebih sederhana, Anda hanya akan membandingkan apakah gambar yang diberikan berupa *sushi* atau *pizza*. Anda akan melakukan klasifikasi menggunakan algoritma regresi logistik dan neural networks dalam tugas ini."
      ]
    },
    {
      "cell_type": "markdown",
      "metadata": {
        "id": "hFLdlRDuTDBi"
      },
      "source": [
        "### Mengimpor Modul dan Dataset"
      ]
    },
    {
      "cell_type": "code",
      "execution_count": null,
      "metadata": {
        "collapsed": true,
        "id": "Rm_osCaPTDBj"
      },
      "outputs": [],
      "source": [
        "from __future__ import print_function, division # Gunakan print(...) dan bukan print ...\n",
        "import matplotlib.pyplot as plt\n",
        "import numpy as np\n",
        "import pandas as pd\n",
        "import seaborn as sns\n",
        "import random\n",
        "import requests\n",
        "\n",
        "from sklearn.linear_model import LinearRegression, LogisticRegression\n",
        "from sklearn.metrics import accuracy_score, confusion_matrix, mean_squared_error, r2_score\n",
        "from sklearn.model_selection import train_test_split\n",
        "from sklearn.preprocessing import LabelEncoder\n",
        "\n",
        "%matplotlib inline\n",
        "\n",
        "RANDOM_STATE = 1337\n",
        "np.random.seed(RANDOM_STATE)"
      ]
    },
    {
      "cell_type": "markdown",
      "metadata": {
        "id": "ICTdZiQITDBl"
      },
      "source": [
        "## 1. Eksplorasi Awal Data - Advertising (6 poin)"
      ]
    },
    {
      "cell_type": "code",
      "execution_count": null,
      "metadata": {
        "collapsed": true,
        "id": "NObCp87HTDBm"
      },
      "outputs": [],
      "source": [
        "df = pd.read_csv('https://github.com/aliakbars/uai-ai/raw/master/datasets/advertising.csv', index_col=0)"
      ]
    },
    {
      "cell_type": "markdown",
      "metadata": {
        "id": "4H7YbE6aTDBn"
      },
      "source": [
        "### Soal 1.1.a (1 poin)\n",
        "\n",
        "Laporkan deskripsi dari Advertising dataset dengan menggunakan metode dari Pandas!"
      ]
    },
    {
      "cell_type": "code",
      "execution_count": null,
      "metadata": {
        "collapsed": true,
        "id": "gNbkLfvATDBo"
      },
      "outputs": [],
      "source": []
    },
    {
      "cell_type": "markdown",
      "metadata": {
        "id": "5lBQC6ZiTDBo"
      },
      "source": [
        "### Soal 1.1.b (2 poin)\n",
        "\n",
        "Berapa nilai `sales` paling rendah dan nilai `sales` paling tinggi dari data yang Anda miliki? Berapa ribu dollar uang yang dihabiskan untuk membayar biaya iklan di `TV`, `radio`, dan `newspaper` untuk produk tersebut?\n"
      ]
    },
    {
      "cell_type": "code",
      "execution_count": null,
      "metadata": {
        "collapsed": true,
        "id": "SLHM3Tq-TDBp"
      },
      "outputs": [],
      "source": []
    },
    {
      "cell_type": "markdown",
      "metadata": {
        "id": "XPTZFYvXTDBp"
      },
      "source": [
        "### Soal 1.2 (3 poin)\n",
        "\n",
        "Gambarkan scatter plot dari `sales` terhadap media iklan `TV`, `radio`, dan `newspaper`."
      ]
    },
    {
      "cell_type": "code",
      "execution_count": null,
      "metadata": {
        "collapsed": true,
        "id": "2gzHhonLTDBq"
      },
      "outputs": [],
      "source": []
    },
    {
      "cell_type": "markdown",
      "metadata": {
        "id": "ljYA9ZxyTDBq"
      },
      "source": [
        "## 2. Prediksi Penjualan Berdasarkan Biaya Media Iklan dengan Regresi Linear (19 poin)"
      ]
    },
    {
      "cell_type": "markdown",
      "metadata": {
        "id": "E--Q7XlGTDBq"
      },
      "source": [
        "### Soal 2.1 (4 poin)\n",
        "\n",
        "Kita akan membuat simple linear regression dengan satu fitur. Dalam kasus ini, mari mencoba melihat hubungan antara `sales` dengan biaya untuk media iklan di `TV`.\n",
        "\n",
        "Ambil fitur dari kolom `TV` dan response dari kolom `sales`, kemudian buat sebuah model linear regression menggunakan pustaka scikit-learn dan latih model tersebut dengan data yang Anda miliki! Laporkan nilai bias dan koefisiennya. Lalu, jelaskan bagaimana intepretasi Anda terhadap koefisien dari model yang Anda miliki.\n",
        "\n",
        "*Petunjuk: Lihat cara penggunaan pustakanya di [sini](http://scikit-learn.org/stable/auto_examples/linear_model/plot_ols.html#sphx-glr-auto-examples-linear-model-plot-ols-py).*"
      ]
    },
    {
      "cell_type": "code",
      "execution_count": null,
      "metadata": {
        "collapsed": true,
        "id": "pdah7vDHTDBq"
      },
      "outputs": [],
      "source": []
    },
    {
      "cell_type": "markdown",
      "metadata": {
        "id": "3k6G9K-3TDBr"
      },
      "source": [
        "*Jawaban Anda di sini*"
      ]
    },
    {
      "cell_type": "markdown",
      "metadata": {
        "id": "666pJcRwTDBt"
      },
      "source": [
        "### Soal 2.2.a (3 poin)\n",
        "\n",
        "Mari kita lihat seberapa baik garis regresi yang dibuat dari model yang Anda miliki. Buatlah prediksi dari biaya `TV` yang paling minimum dan biaya `TV` yang paling maksimum! Gambarkan scatter plot dan garis regresi model Anda atas prediksi tersebut. Bagaimana garis tersebut mencocokkan data Anda?"
      ]
    },
    {
      "cell_type": "code",
      "execution_count": null,
      "metadata": {
        "collapsed": true,
        "id": "arC0S6-nTDBt"
      },
      "outputs": [],
      "source": []
    },
    {
      "cell_type": "markdown",
      "metadata": {
        "id": "3vEqV-dATDBu"
      },
      "source": [
        "### Soal 2.2.b (3 poin)\n",
        "\n",
        "Coba lakukan kembali regresi pada data tersebut, tetapi kali ini gunakan fungsi basis polinomial orde 3. Gambarkan kembali scatter plot dan fungsi regresinya."
      ]
    },
    {
      "cell_type": "code",
      "execution_count": null,
      "metadata": {
        "collapsed": true,
        "id": "LgJHt2obTDBu"
      },
      "outputs": [],
      "source": []
    },
    {
      "cell_type": "markdown",
      "metadata": {
        "id": "a9pGP0BcTDBu"
      },
      "source": [
        "### Soal 2.2.c (3 poin)\n",
        "\n",
        "Salah satu cara untuk memastikan bahwa model yang Anda hasilkan sudah cukup baik pada model regresi adalah dengan menghitung nilai *mean squared error* (MSE). Coba hitung nilai MSE untuk regresi dengan dan tanpa fungsi basis polinomial seperti yang Anda kerjakan pada bagian a dan b. Apa yang dapat Anda amati? Apakah nilainya sesuai dengan ekspektasi Anda?"
      ]
    },
    {
      "cell_type": "code",
      "execution_count": null,
      "metadata": {
        "collapsed": true,
        "id": "7Mu722BSTDBv"
      },
      "outputs": [],
      "source": []
    },
    {
      "cell_type": "markdown",
      "metadata": {
        "id": "zqutca_nTDBw"
      },
      "source": [
        "*Jawaban Anda di sini*"
      ]
    },
    {
      "cell_type": "markdown",
      "metadata": {
        "id": "jaHdFdZfTDBw"
      },
      "source": [
        "### Soal 2.3.a (4 poin)\n",
        "\n",
        "Sekarang kita akan melakukan Multiple Linear Regression. Buatlah sebuah model dengan menggunakan Linear Regression dari scikit-learn untuk fitur `TV`, `radio`, dan `newspaper`. Variabel dependen yang digunakan adalah `sales`. Keluarkan pula nilai bias dan nilai koefisien ketiga fitur tersebut. Sebelum itu, bagi dataset menjadi data latih dan data uji dengan proporsi data uji sebanyak 20%."
      ]
    },
    {
      "cell_type": "code",
      "execution_count": null,
      "metadata": {
        "collapsed": true,
        "id": "Rd8dHW5pTDBx"
      },
      "outputs": [],
      "source": []
    },
    {
      "cell_type": "markdown",
      "metadata": {
        "id": "5fYkFP_jTDBx"
      },
      "source": [
        "### Soal 2.3.b (2 poin)\n",
        "\n",
        "Lakukan evaluasi model *multiple linear regression* yang Anda miliki dari data uji dengan menggunakan *mean squared error*."
      ]
    },
    {
      "cell_type": "code",
      "execution_count": null,
      "metadata": {
        "collapsed": true,
        "id": "ovvimqd6TDBx"
      },
      "outputs": [],
      "source": []
    },
    {
      "cell_type": "markdown",
      "metadata": {
        "id": "QhwV9xtfTDBx"
      },
      "source": [
        "## 3. Eksplorasi Awal Data Food-101 (3 poin)"
      ]
    },
    {
      "cell_type": "markdown",
      "metadata": {
        "id": "EAV1DqmSTDBy"
      },
      "source": [
        "Pertama, kita akan memuat data menggunakan kode di bawah ini. `X` merupakan gambar yang telah diterjemahkan dalam bentuk *tensor* atau array multidimensi. Dimensi pertama menunjukkan jumlah datanya, dua dimensi berikutnya menunjukkan panjang dan lebar dari gambarnya, dan dimensi keempat merupakan *channels* (RGB). Di sisi lain, `y` adalah kelas dari masing-masing gambar yang diberikan dalam `X` sehingga `X.shape[0] == y.shape[0]`."
      ]
    },
    {
      "cell_type": "code",
      "execution_count": null,
      "metadata": {
        "id": "Q7ghQ9JBTDBy"
      },
      "outputs": [],
      "source": [
        "def load_file(url):\n",
        "    filename = url.split('/')[-1]\n",
        "    with open(filename, 'wb') as f:\n",
        "        resp = requests.get(url)\n",
        "        f.write(resp.content)\n",
        "    return np.load(filename)"
      ]
    },
    {
      "cell_type": "code",
      "execution_count": null,
      "metadata": {
        "collapsed": true,
        "id": "X4ij_1UNTDBy"
      },
      "outputs": [],
      "source": [
        "X = load_file('https://github.com/aliakbars/uai-ai/raw/master/datasets/food.npy')\n",
        "y = load_file('https://github.com/aliakbars/uai-ai/raw/master/datasets/food_labels.npy')\n",
        "\n",
        "X.shape"
      ]
    },
    {
      "cell_type": "markdown",
      "metadata": {
        "id": "zjXBlTN6TDBy"
      },
      "source": [
        "### Soal 3.1 (1 poin)\n",
        "\n",
        "Berapa banyak gambar sushi dan pizza masing-masing dalam dataset ini?"
      ]
    },
    {
      "cell_type": "code",
      "execution_count": null,
      "metadata": {
        "collapsed": true,
        "id": "3oPW8cfHTDBz"
      },
      "outputs": [],
      "source": []
    },
    {
      "cell_type": "markdown",
      "metadata": {
        "id": "DEMM2tRzTDBz"
      },
      "source": [
        "### Soal 3.2 (2 poin)\n",
        "\n",
        "Gambarkan satu contoh pizza (indeks 0-1000) dan satu contoh sushi (indeks 1001-2000) dari dataset yang digunakan.\n",
        "\n",
        "*Petunjuk: Anda dapat menggunakan `plt.imshow()`*"
      ]
    },
    {
      "cell_type": "code",
      "execution_count": null,
      "metadata": {
        "collapsed": true,
        "id": "3m4Ht5UxTDBz"
      },
      "outputs": [],
      "source": []
    },
    {
      "cell_type": "markdown",
      "metadata": {
        "id": "q6R9F6N8TDBz"
      },
      "source": [
        "## 4. Klasifikasi Gambar Pizza dan Sushi Menggunakan Logistic Regression (12 poin)"
      ]
    },
    {
      "cell_type": "markdown",
      "metadata": {
        "id": "oggdGx3pTDBz"
      },
      "source": [
        "### Soal 4.1 (1 poin)\n",
        "\n",
        "Bagi dataset Anda menjadi 70-30 untuk training-test sets."
      ]
    },
    {
      "cell_type": "code",
      "execution_count": null,
      "metadata": {
        "collapsed": true,
        "id": "nDgyY84eTDB0"
      },
      "outputs": [],
      "source": []
    },
    {
      "cell_type": "markdown",
      "metadata": {
        "id": "FtoC8cJtTDB8"
      },
      "source": [
        "### Soal 4.2.a (4 poin)\n",
        "\n",
        "Buat gambar yang berbentuk matriks pixel yang ada menjadi flat, lalu lakukan regresi logistik ke data yang telah Anda bagi tadi."
      ]
    },
    {
      "cell_type": "code",
      "execution_count": null,
      "metadata": {
        "collapsed": true,
        "id": "HSASTuawTDB8"
      },
      "outputs": [],
      "source": []
    },
    {
      "cell_type": "markdown",
      "metadata": {
        "id": "_jRVek2JTDB9"
      },
      "source": [
        "### Soal 4.2.b (2 poin)\n",
        "\n",
        "Apa pendapat Anda tentang hasil klasifikasi tersebut? Apakah hasilnya sudah cukup baik?"
      ]
    },
    {
      "cell_type": "markdown",
      "metadata": {
        "id": "tu-uBIPaTDB9"
      },
      "source": [
        "*Jawaban Anda di sini*"
      ]
    },
    {
      "cell_type": "markdown",
      "metadata": {
        "id": "kM0Tz2ryTDB9"
      },
      "source": [
        "### Soal 4.3 (5 poin)\n",
        "\n",
        "Apa kesimpulan Anda dari eksperimen sejauh ini? Apa yang dapat dilakukan untuk memperbaiki kinerja model regresi logistik?"
      ]
    },
    {
      "cell_type": "markdown",
      "metadata": {
        "id": "jg5vIo2jTDB9"
      },
      "source": [
        "*Jawaban Anda di sini*"
      ]
    },
    {
      "cell_type": "markdown",
      "metadata": {
        "id": "UniXZFa-TDB-"
      },
      "source": [
        "## 5. Bonus: Klasifikasi Gambar Pizza dan Sushi Menggunakan Deep Learning (5 poin)"
      ]
    },
    {
      "cell_type": "markdown",
      "metadata": {
        "id": "5GKjla62TDB-"
      },
      "source": [
        "Coba klasifikasikan data Food-101 untuk kedua jenis makanan diatas dengan menggunakan pustaka dari Keras untuk *deep learning* atau *neural networks*. Jangan lupa untuk melaporkan akurasi dan *confusion matrix*-nya. Adaptasi kode di atas dan lihat pula contoh kode di [sini](https://github.com/fchollet/keras/blob/master/examples/mnist_cnn.py). Coba buat Convolutional Neural Network dan jalankan kodenya. Kode *deep learning* Anda hanya dinilai jika berhasil berjalan.\n",
        "\n",
        "*Petunjuk: Anda mungkin perlu mengubah dimensi dari data latih dan data uji Anda menjadi $n \\times d \\times d \\times 1$ dengan 1 dimensi terakhir adalah channel hitam-putih. Nilainya bisa menjadi 3 jika kita menggunakan channel warna RGB.*\n",
        "\n",
        "*Anda mungkin perlu menggunakan representasi one-of-K untuk label yang digunakan. Anda dapat menggunakan `keras.utils.to_categorical` untuk melakukan hal ini. Silakan mencontoh kode untuk deep neural networks sederhana di [sini](https://github.com/fchollet/keras/blob/master/examples/mnist_mlp.py) atau dengan menggunakan convolutional neural networks di [sini](https://github.com/fchollet/keras/blob/master/examples/mnist_cnn.py).*"
      ]
    },
    {
      "cell_type": "code",
      "execution_count": null,
      "metadata": {
        "collapsed": true,
        "id": "8epSSQDuTDB-"
      },
      "outputs": [],
      "source": []
    }
  ],
  "metadata": {
    "anaconda-cloud": {},
    "kernelspec": {
      "display_name": "Python 3",
      "language": "python",
      "name": "python3"
    },
    "language_info": {
      "codemirror_mode": {
        "name": "ipython",
        "version": 3
      },
      "file_extension": ".py",
      "mimetype": "text/x-python",
      "name": "python",
      "nbconvert_exporter": "python",
      "pygments_lexer": "ipython3",
      "version": "3.6.2"
    },
    "colab": {
      "provenance": [],
      "include_colab_link": true
    }
  },
  "nbformat": 4,
  "nbformat_minor": 0
}